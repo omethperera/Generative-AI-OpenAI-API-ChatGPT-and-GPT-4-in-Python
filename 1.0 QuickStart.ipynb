{
 "cells": [
  {
   "cell_type": "code",
   "execution_count": 1,
   "id": "5039ede7-3d54-4091-abab-9e46308b532e",
   "metadata": {},
   "outputs": [],
   "source": [
    "from openai import OpenAI"
   ]
  },
  {
   "cell_type": "code",
   "execution_count": 4,
   "id": "542dc983-afd2-4cd8-8469-6a17a15e96c9",
   "metadata": {},
   "outputs": [],
   "source": [
    "client = OpenAI()"
   ]
  },
  {
   "cell_type": "code",
   "execution_count": 9,
   "id": "4ababc96-3df2-4474-b965-ee3798b70473",
   "metadata": {},
   "outputs": [],
   "source": [
    "completion = client.chat.completions.create(\n",
    "    model= 'gpt-4o-mini',\n",
    "    messages= [\n",
    "        {\"role\": \"system\", \"content\": \"You are a poetic assistant, skilled in explaining complex programming concepts with creative flair.\"},\n",
    "        {\"role\": \"user\", \"content\": \"Compose a poem that explains the concept of recursion in programming.\"},      \n",
    "    ]\n",
    ")"
   ]
  },
  {
   "cell_type": "code",
   "execution_count": 10,
   "id": "7c5b7f7f-200d-4a95-91b9-0d74035592bc",
   "metadata": {},
   "outputs": [
    {
     "data": {
      "text/plain": [
       "ChatCompletion(id='chatcmpl-AD4JsJ01F3mUq3iSi7wGNHQOeixgd', choices=[Choice(finish_reason='stop', index=0, logprobs=None, message=ChatCompletionMessage(content='In the realm where code does weave,  \\nA dance of functions, take your leave,  \\nBehold recursion, a wondrous sight,  \\nWhere whispers of self echo in the night.  \\n\\nA function calls its own embrace,  \\nA mirror reflecting in a digital space,  \\n“Call me again!” it softly pleads,  \\nAs it breaks the problem into simpler seeds.  \\n\\n“Let’s climb this ladder, step by step,  \\nUntil we reach the base, our adept,  \\nFor when we find our smallest case,  \\nThe answer blooms — it finds its place.”  \\n\\nImagine a tree, branches wide,  \\nEach smaller twig gives a place to hide,  \\nEach leaf a problem, reduced in size,  \\nUntil simplicity finally arises.  \\n\\nBut beware the trap, for circles may form,  \\nWithout a base case, the code can swarm,  \\nLike a phoenix trapped in its fiery plight,  \\nEndless calls lead to a fateful night.  \\n\\nYet, when woven with care, like a delicate lace,  \\nRecursion dances through problems with grace,  \\nFrom factorials to Fibonacci’s flight,  \\nIt breaks them apart, then reunites.  \\n\\nSo cherish this method, both wise and bold,  \\nIn paths of logic, its secrets unfold,  \\nFor in endless echoes, in depth we shall find,  \\nThe beauty of recursion, intricately designed.', refusal=None, role='assistant', function_call=None, tool_calls=None))], created=1727678232, model='gpt-4o-mini-2024-07-18', object='chat.completion', service_tier=None, system_fingerprint='fp_f85bea6784', usage=CompletionUsage(completion_tokens=278, prompt_tokens=39, total_tokens=317, completion_tokens_details=CompletionTokensDetails(reasoning_tokens=0)))"
      ]
     },
     "execution_count": 10,
     "metadata": {},
     "output_type": "execute_result"
    }
   ],
   "source": [
    "completion\n"
   ]
  },
  {
   "cell_type": "code",
   "execution_count": 13,
   "id": "c2a5e398-7afb-4809-960d-a8e10a489721",
   "metadata": {},
   "outputs": [],
   "source": [
    "choice = completion.choices[0]"
   ]
  },
  {
   "cell_type": "code",
   "execution_count": 14,
   "id": "fb6d89a0-64a9-42ff-88e8-0bee2afaa320",
   "metadata": {},
   "outputs": [
    {
     "data": {
      "text/plain": [
       "Choice(finish_reason='stop', index=0, logprobs=None, message=ChatCompletionMessage(content='In the realm where code does weave,  \\nA dance of functions, take your leave,  \\nBehold recursion, a wondrous sight,  \\nWhere whispers of self echo in the night.  \\n\\nA function calls its own embrace,  \\nA mirror reflecting in a digital space,  \\n“Call me again!” it softly pleads,  \\nAs it breaks the problem into simpler seeds.  \\n\\n“Let’s climb this ladder, step by step,  \\nUntil we reach the base, our adept,  \\nFor when we find our smallest case,  \\nThe answer blooms — it finds its place.”  \\n\\nImagine a tree, branches wide,  \\nEach smaller twig gives a place to hide,  \\nEach leaf a problem, reduced in size,  \\nUntil simplicity finally arises.  \\n\\nBut beware the trap, for circles may form,  \\nWithout a base case, the code can swarm,  \\nLike a phoenix trapped in its fiery plight,  \\nEndless calls lead to a fateful night.  \\n\\nYet, when woven with care, like a delicate lace,  \\nRecursion dances through problems with grace,  \\nFrom factorials to Fibonacci’s flight,  \\nIt breaks them apart, then reunites.  \\n\\nSo cherish this method, both wise and bold,  \\nIn paths of logic, its secrets unfold,  \\nFor in endless echoes, in depth we shall find,  \\nThe beauty of recursion, intricately designed.', refusal=None, role='assistant', function_call=None, tool_calls=None))"
      ]
     },
     "execution_count": 14,
     "metadata": {},
     "output_type": "execute_result"
    }
   ],
   "source": [
    "choice"
   ]
  },
  {
   "cell_type": "code",
   "execution_count": 15,
   "id": "d675e342-86c7-41bd-bf58-7ec173855a10",
   "metadata": {},
   "outputs": [
    {
     "data": {
      "text/plain": [
       "ChatCompletionMessage(content='In the realm where code does weave,  \\nA dance of functions, take your leave,  \\nBehold recursion, a wondrous sight,  \\nWhere whispers of self echo in the night.  \\n\\nA function calls its own embrace,  \\nA mirror reflecting in a digital space,  \\n“Call me again!” it softly pleads,  \\nAs it breaks the problem into simpler seeds.  \\n\\n“Let’s climb this ladder, step by step,  \\nUntil we reach the base, our adept,  \\nFor when we find our smallest case,  \\nThe answer blooms — it finds its place.”  \\n\\nImagine a tree, branches wide,  \\nEach smaller twig gives a place to hide,  \\nEach leaf a problem, reduced in size,  \\nUntil simplicity finally arises.  \\n\\nBut beware the trap, for circles may form,  \\nWithout a base case, the code can swarm,  \\nLike a phoenix trapped in its fiery plight,  \\nEndless calls lead to a fateful night.  \\n\\nYet, when woven with care, like a delicate lace,  \\nRecursion dances through problems with grace,  \\nFrom factorials to Fibonacci’s flight,  \\nIt breaks them apart, then reunites.  \\n\\nSo cherish this method, both wise and bold,  \\nIn paths of logic, its secrets unfold,  \\nFor in endless echoes, in depth we shall find,  \\nThe beauty of recursion, intricately designed.', refusal=None, role='assistant', function_call=None, tool_calls=None)"
      ]
     },
     "execution_count": 15,
     "metadata": {},
     "output_type": "execute_result"
    }
   ],
   "source": [
    "choice.message"
   ]
  },
  {
   "cell_type": "code",
   "execution_count": 16,
   "id": "7d0bab43-159c-4309-b86f-439abc5cde9f",
   "metadata": {},
   "outputs": [
    {
     "name": "stdout",
     "output_type": "stream",
     "text": [
      "In the realm where code does weave,  \n",
      "A dance of functions, take your leave,  \n",
      "Behold recursion, a wondrous sight,  \n",
      "Where whispers of self echo in the night.  \n",
      "\n",
      "A function calls its own embrace,  \n",
      "A mirror reflecting in a digital space,  \n",
      "“Call me again!” it softly pleads,  \n",
      "As it breaks the problem into simpler seeds.  \n",
      "\n",
      "“Let’s climb this ladder, step by step,  \n",
      "Until we reach the base, our adept,  \n",
      "For when we find our smallest case,  \n",
      "The answer blooms — it finds its place.”  \n",
      "\n",
      "Imagine a tree, branches wide,  \n",
      "Each smaller twig gives a place to hide,  \n",
      "Each leaf a problem, reduced in size,  \n",
      "Until simplicity finally arises.  \n",
      "\n",
      "But beware the trap, for circles may form,  \n",
      "Without a base case, the code can swarm,  \n",
      "Like a phoenix trapped in its fiery plight,  \n",
      "Endless calls lead to a fateful night.  \n",
      "\n",
      "Yet, when woven with care, like a delicate lace,  \n",
      "Recursion dances through problems with grace,  \n",
      "From factorials to Fibonacci’s flight,  \n",
      "It breaks them apart, then reunites.  \n",
      "\n",
      "So cherish this method, both wise and bold,  \n",
      "In paths of logic, its secrets unfold,  \n",
      "For in endless echoes, in depth we shall find,  \n",
      "The beauty of recursion, intricately designed.\n"
     ]
    }
   ],
   "source": [
    "print(choice.message.content)"
   ]
  },
  {
   "cell_type": "code",
   "execution_count": null,
   "id": "bcbfb9fa-6709-4cd3-af62-93a40a355b36",
   "metadata": {},
   "outputs": [],
   "source": []
  }
 ],
 "metadata": {
  "kernelspec": {
   "display_name": "Python 3 (ipykernel)",
   "language": "python",
   "name": "python3"
  },
  "language_info": {
   "codemirror_mode": {
    "name": "ipython",
    "version": 3
   },
   "file_extension": ".py",
   "mimetype": "text/x-python",
   "name": "python",
   "nbconvert_exporter": "python",
   "pygments_lexer": "ipython3",
   "version": "3.12.5"
  }
 },
 "nbformat": 4,
 "nbformat_minor": 5
}
