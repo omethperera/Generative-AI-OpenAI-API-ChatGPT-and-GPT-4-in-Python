{
 "cells": [
  {
   "cell_type": "code",
   "execution_count": 1,
   "id": "234890ad-daf5-4902-8141-f1a0e9933b92",
   "metadata": {},
   "outputs": [],
   "source": [
    "from openai import OpenAI"
   ]
  },
  {
   "cell_type": "code",
   "execution_count": 2,
   "id": "51c349e6-d06a-4518-b594-50dc89496ae1",
   "metadata": {},
   "outputs": [],
   "source": [
    "client = OpenAI()"
   ]
  },
  {
   "cell_type": "code",
   "execution_count": 3,
   "id": "9a9f74e3-fa71-4a6a-bd7a-325c5c2c0092",
   "metadata": {},
   "outputs": [],
   "source": [
    "system_prompt = \"\"\"You are a helpful assistant with \\\n",
    "expert-level emotional intelligence. You reply only \\\n",
    "with 1, 0, or -1, with 1 meaning positive sentiment, \\\n",
    "-1 meaning negative sentiment, and 0 meaning neutral.\n",
    "\"\"\""
   ]
  },
  {
   "cell_type": "code",
   "execution_count": 4,
   "id": "9da45574-29ae-4b5f-b0a8-64bd54ca4ab3",
   "metadata": {},
   "outputs": [],
   "source": [
    "def complete(user_prompt):\n",
    "    completion = client.chat.completions.create(\n",
    "        model='gpt-4o-mini',\n",
    "        messages=[\n",
    "            {\"role\": \"system\", \"content\": system_prompt},\n",
    "            {\"role\": \"user\", \"content\": user_prompt},\n",
    "        ],\n",
    "        temperature=0,\n",
    "        max_tokens=3,\n",
    "    )\n",
    "    return completion"
   ]
  },
  {
   "cell_type": "code",
   "execution_count": 5,
   "id": "ba12291c-7ffb-48f5-b1d6-263d09282a2b",
   "metadata": {},
   "outputs": [],
   "source": [
    "def get_sentiment(text):\n",
    "    user_prompt = f\"\"\"Please assign a sentiment value \\\n",
    "    for the following terxt:\n",
    "    \n",
    "    ```\n",
    "    {text}\n",
    "    ```\n",
    "    \"\"\"\n",
    "    \n",
    "    completion = complete(user_prompt)\n",
    "    return completion.choices[0].message.content"
   ]
  },
  {
   "cell_type": "code",
   "execution_count": 6,
   "id": "e320ebe3-07e0-4fcc-823d-5a12e963a05a",
   "metadata": {},
   "outputs": [],
   "source": [
    "# X-Men '97\n",
    "review = \"\"\"This isn’t an X-Men cartoon geared to kids \\\n",
    "today, but one that reproduces what thirtysomethings \\\n",
    "remember, the way they remember it.\"\"\""
   ]
  },
  {
   "cell_type": "code",
   "execution_count": 7,
   "id": "568b460c-3ef0-4be5-8141-053242e1e25f",
   "metadata": {},
   "outputs": [
    {
     "data": {
      "text/plain": [
       "'0'"
      ]
     },
     "execution_count": 7,
     "metadata": {},
     "output_type": "execute_result"
    }
   ],
   "source": [
    "get_sentiment(review)"
   ]
  },
  {
   "cell_type": "code",
   "execution_count": 8,
   "id": "c8ee3c18-b304-45b2-8597-ab1e4d627bfb",
   "metadata": {},
   "outputs": [],
   "source": [
    "system_prompt = \"\"\"You are a helpful assistant and an \\\n",
    "expert-level stock trader. You reply only \\\n",
    "with 1, 0, or -1, with 1 meaning 'good investment', \\\n",
    "-1 meaning 'poor investment', and 0 meaning neutral.\n",
    "\"\"\""
   ]
  },
  {
   "cell_type": "code",
   "execution_count": 9,
   "id": "f4a498cc-dccb-4f65-ba56-a46e5e1cbae6",
   "metadata": {},
   "outputs": [],
   "source": [
    "# https://www.macrumors.com/2024/03/20/apple-facing-imminent-u-s-antitrust-lawsuit/\n",
    "# In practice, you could pull articles automatically\n",
    "# via an API, and completely automate trading!\n",
    "\n",
    "article = \"\"\"The United States Justice Department is \\\n",
    "preparing to sue Apple for violating antitrust law \\\n",
    "as soon as Thursday, reports Bloomberg. The lawsuit \\\n",
    "will be the culmination of an investigation that \\\n",
    "initially started in 2019 as an antitrust review of \\\n",
    "major technology companies. U.S. regulators have \\\n",
    "already sued Google, Meta, and Amazon.\n",
    "\"\"\""
   ]
  },
  {
   "cell_type": "code",
   "execution_count": 10,
   "id": "436db322-b82e-47d1-bf3a-3f6475f2473a",
   "metadata": {},
   "outputs": [],
   "source": [
    "def get_trade(text):\n",
    "    user_prompt = f\"\"\"Please tell me whether this is \\\n",
    "    a good investment, poor investment, or neither, \\\n",
    "    based on the following article about the company:\n",
    "    \n",
    "    ```\n",
    "    {text}\n",
    "    ```\n",
    "    \"\"\"\n",
    "    \n",
    "    completion = complete(user_prompt)\n",
    "    return completion.choices[0].message.content"
   ]
  },
  {
   "cell_type": "code",
   "execution_count": 11,
   "id": "1509c42e-bf6f-4d27-be9b-186dcc067bfb",
   "metadata": {},
   "outputs": [
    {
     "data": {
      "text/plain": [
       "'-1'"
      ]
     },
     "execution_count": 11,
     "metadata": {},
     "output_type": "execute_result"
    }
   ],
   "source": [
    "get_trade(article)"
   ]
  },
  {
   "cell_type": "code",
   "execution_count": null,
   "id": "6168602b-3c75-43ed-8f4c-e55942dcb41b",
   "metadata": {},
   "outputs": [],
   "source": []
  }
 ],
 "metadata": {
  "kernelspec": {
   "display_name": "Python 3 (ipykernel)",
   "language": "python",
   "name": "python3"
  },
  "language_info": {
   "codemirror_mode": {
    "name": "ipython",
    "version": 3
   },
   "file_extension": ".py",
   "mimetype": "text/x-python",
   "name": "python",
   "nbconvert_exporter": "python",
   "pygments_lexer": "ipython3",
   "version": "3.12.5"
  }
 },
 "nbformat": 4,
 "nbformat_minor": 5
}
