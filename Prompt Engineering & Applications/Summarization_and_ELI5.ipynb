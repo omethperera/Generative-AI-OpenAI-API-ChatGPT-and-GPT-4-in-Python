{
 "cells": [
  {
   "cell_type": "code",
   "execution_count": 1,
   "id": "cd9d15bf-01f9-4566-9514-faddb7cc101e",
   "metadata": {},
   "outputs": [],
   "source": [
    "from openai import OpenAI"
   ]
  },
  {
   "cell_type": "code",
   "execution_count": 2,
   "id": "15c886f8-902a-4952-a396-b245f2086ccd",
   "metadata": {},
   "outputs": [],
   "source": [
    "client = OpenAI()"
   ]
  },
  {
   "cell_type": "code",
   "execution_count": 4,
   "id": "118d814c-b965-46a4-8dba-c1f8ac2afb3e",
   "metadata": {},
   "outputs": [],
   "source": [
    "def complete(user_prompt):\n",
    "    completion = client.chat.completions.create(\n",
    "        model='gpt-4o-mini',\n",
    "        messages=[\n",
    "            {\"role\": \"user\", \"content\": user_prompt},\n",
    "        ],\n",
    "        temperature=0,\n",
    "        max_tokens=300,\n",
    "    )\n",
    "    return completion"
   ]
  },
  {
   "cell_type": "code",
   "execution_count": 5,
   "id": "b2e15d55-92b8-4eb1-aba9-aa6bccfc7dba",
   "metadata": {},
   "outputs": [],
   "source": [
    "stemcells = \"\"\"What are stem cells?\n",
    "\n",
    "Stem cells are the body's raw materials — cells \\\n",
    "from which all other cells with specialized functions \\\n",
    "are generated. Under the right conditions in the body \\\n",
    "or a laboratory, stem cells divide to form more cells \\\n",
    "called daughter cells.\n",
    "\n",
    "These daughter cells become either new stem cells or \\\n",
    "specialized cells (differentiation) with a more specific \\\n",
    "function, such as blood cells, brain cells, heart muscle \\\n",
    "cells or bone cells. No other cell in the body has the \\\n",
    "natural ability to generate new cell types.\n",
    "\n",
    "Why is there such an interest in stem cells?\n",
    "Researchers hope stem cell studies can help to:\n",
    "\n",
    "Increase understanding of how diseases occur. By watching \\\n",
    "stem cells mature into cells in bones, heart muscle, nerves, \\\n",
    "and other organs and tissue, researchers may better \\\n",
    "understand how diseases and conditions develop.\n",
    "Generate healthy cells to replace cells affected by disease \\\n",
    "(regenerative medicine). Stem cells can be guided into \\\n",
    "becoming specific cells that can be used in people to \\\n",
    "regenerate and repair tissues that have been damaged or \\\n",
    "affected by disease.\n",
    "\n",
    "People who might benefit from stem cell therapies include \\\n",
    "those with spinal cord injuries, type 1 diabetes, Parkinson's \\\n",
    "disease, amyotrophic lateral sclerosis, Alzheimer's disease, \\\n",
    "heart disease, stroke, burns, cancer and osteoarthritis.\n",
    "\n",
    "Stem cells may have the potential to be grown to become new \\\n",
    "tissue for use in transplant and regenerative medicine. \\\n",
    "Researchers continue to advance the knowledge on stem cells \\\n",
    "and their applications in transplant and regenerative medicine.\n",
    "\n",
    "Test new drugs for safety and effectiveness. Before using \\\n",
    "investigational drugs in people, researchers can use some \\\n",
    "types of stem cells to test the drugs for safety and quality. \\\n",
    "This type of testing will most likely first have a direct \\\n",
    "impact on drug development for cardiac toxicity testing.\n",
    "\n",
    "New areas of study include the effectiveness of using human \\\n",
    "stem cells that have been programmed into tissue-specific \\\n",
    "cells to test new drugs. For the testing of new drugs to \\\n",
    "be accurate, the cells must be programmed to acquire \\\n",
    "properties of the type of cells targeted by the drug. \\\n",
    "Techniques to program cells into specific cells are under study.\n",
    "\n",
    "For instance, nerve cells could be generated to test a \\\n",
    "new drug for a nerve disease. Tests could show whether \\\n",
    "the new drug had any effect on the cells and whether the \\\n",
    "cells were harmed.\n",
    "\"\"\""
   ]
  },
  {
   "cell_type": "code",
   "execution_count": 6,
   "id": "55fddd35-c4a3-429c-b69a-3ad538e2216d",
   "metadata": {},
   "outputs": [],
   "source": [
    "prompt = f\"\"\"Please summarize the following article:\n",
    "\n",
    "```\n",
    "{stemcells}\n",
    "```\n",
    "\"\"\""
   ]
  },
  {
   "cell_type": "code",
   "execution_count": 7,
   "id": "d8b416bd-27c1-4b16-ab94-dc8dc830aca5",
   "metadata": {},
   "outputs": [],
   "source": [
    "completion = complete(prompt)"
   ]
  },
  {
   "cell_type": "code",
   "execution_count": 8,
   "id": "27a36ec0-b7c5-4deb-901d-0df91de54882",
   "metadata": {},
   "outputs": [],
   "source": [
    "def print_response(completion):\n",
    "    content = completion.choices[0].message.content\n",
    "    print(content)"
   ]
  },
  {
   "cell_type": "code",
   "execution_count": 9,
   "id": "cb516556-8412-492b-8e07-856ea40cf0d0",
   "metadata": {},
   "outputs": [
    {
     "name": "stdout",
     "output_type": "stream",
     "text": [
      "Stem cells are fundamental cells in the body that can develop into various specialized cell types, such as blood, brain, heart, or bone cells. They can either remain as stem cells or differentiate into these specialized cells, making them unique in their ability to generate new cell types.\n",
      "\n",
      "There is significant interest in stem cells for several reasons:\n",
      "\n",
      "1. **Understanding Diseases**: Researchers study stem cells to gain insights into how diseases develop by observing their maturation into different cell types.\n",
      "\n",
      "2. **Regenerative Medicine**: Stem cells hold the potential to replace damaged or diseased cells, offering hope for conditions like spinal cord injuries, diabetes, Parkinson's disease, and more.\n",
      "\n",
      "3. **Drug Testing**: Stem cells can be used to test the safety and effectiveness of new drugs before they are administered to humans, particularly for assessing cardiac toxicity.\n",
      "\n",
      "Current research is focused on programming stem cells into specific cell types for more accurate drug testing, such as generating nerve cells to evaluate treatments for nerve diseases. Overall, advancements in stem cell research could significantly impact transplant and regenerative medicine.\n"
     ]
    }
   ],
   "source": [
    "print_response(completion)"
   ]
  },
  {
   "cell_type": "code",
   "execution_count": 10,
   "id": "b039581e-e444-490e-8d7b-6b5ec36329bb",
   "metadata": {},
   "outputs": [],
   "source": [
    "prompt = f\"\"\"Please summarize the following article. \\\n",
    "Use a maximum of 3 sentences:\n",
    "\n",
    "```\n",
    "{stemcells}\n",
    "```\n",
    "\"\"\""
   ]
  },
  {
   "cell_type": "code",
   "execution_count": 11,
   "id": "219661c8-1628-4657-b5a6-73a92611aef9",
   "metadata": {},
   "outputs": [],
   "source": [
    "completion = complete(prompt)"
   ]
  },
  {
   "cell_type": "code",
   "execution_count": 12,
   "id": "ddea90db-0c5c-4901-ba2d-b2554b407adc",
   "metadata": {},
   "outputs": [
    {
     "name": "stdout",
     "output_type": "stream",
     "text": [
      "Stem cells are undifferentiated cells that can develop into specialized cells, playing a crucial role in understanding disease mechanisms and potential regenerative therapies. Researchers are particularly interested in stem cells for their ability to generate healthy cells to replace those damaged by various diseases, as well as for testing the safety and effectiveness of new drugs. Ongoing studies aim to enhance the application of stem cells in regenerative medicine and drug development by programming them into specific cell types.\n"
     ]
    }
   ],
   "source": [
    "print_response(completion)"
   ]
  },
  {
   "cell_type": "code",
   "execution_count": 13,
   "id": "38fcbcf7-727f-4486-abaa-dadade85e031",
   "metadata": {},
   "outputs": [],
   "source": [
    "prompt = f\"\"\"Please ELI5 the following article:\n",
    "\n",
    "```\n",
    "{stemcells}\n",
    "```\n",
    "\"\"\""
   ]
  },
  {
   "cell_type": "code",
   "execution_count": 14,
   "id": "6c546d0a-bd0c-4e6b-90ca-4f0b526ff9cd",
   "metadata": {},
   "outputs": [],
   "source": [
    "completion = complete(prompt)"
   ]
  },
  {
   "cell_type": "code",
   "execution_count": 15,
   "id": "6f1d3034-5e7a-4961-92af-84cd8b319e41",
   "metadata": {},
   "outputs": [
    {
     "name": "stdout",
     "output_type": "stream",
     "text": [
      "Sure! Here’s a simple explanation of the article about stem cells:\n",
      "\n",
      "**What are stem cells?**\n",
      "- Stem cells are special cells in our bodies that can turn into different types of cells. Think of them as the \"building blocks\" that can become anything from blood cells to brain cells. When they divide, they can either make more stem cells or change into specific cells that have a special job.\n",
      "\n",
      "**Why are people interested in stem cells?**\n",
      "- Scientists are excited about stem cells because they can help us understand diseases better. By watching how stem cells develop into different types of cells, researchers can learn how diseases start and progress.\n",
      "\n",
      "- Stem cells can also be used to create healthy cells to replace damaged ones. This is called regenerative medicine. For example, they might help people with serious conditions like spinal cord injuries, diabetes, or heart disease by repairing or replacing damaged tissues.\n",
      "\n",
      "- Additionally, stem cells can be used to test new medicines. Before giving a new drug to people, scientists can use stem cells to see if the drug is safe and effective. For example, they could create nerve cells from stem cells to test a drug meant for a nerve disease.\n",
      "\n",
      "In summary, stem cells are powerful because they can become many different types of cells, help us understand diseases, repair damaged tissues, and test new medicines.\n"
     ]
    }
   ],
   "source": [
    "print_response(completion)"
   ]
  },
  {
   "cell_type": "code",
   "execution_count": 16,
   "id": "10868c8f-1341-4f72-9675-8754884d4bfe",
   "metadata": {},
   "outputs": [
    {
     "name": "stdout",
     "output_type": "stream",
     "text": [
      "Okay! Imagine your body is like a big Lego set. Stem cells are like the special Lego pieces that can turn into any other piece you need. They are the building blocks that can become different types of cells, like blood cells, brain cells, or heart cells.\n",
      "\n",
      "When scientists study stem cells, they want to learn how our bodies work and how diseases happen. By watching how stem cells change into different cells, they can figure out what goes wrong when someone gets sick.\n",
      "\n",
      "Also, if someone has a problem, like a hurt back or a disease, scientists hope they can use stem cells to make new, healthy cells to help fix the problem. This is called regenerative medicine, which is like using new Lego pieces to replace broken ones in your set.\n",
      "\n",
      "Stem cells can also help scientists test new medicines. Before giving a new medicine to people, they can use stem cells to see if the medicine is safe and works well. For example, they could turn stem cells into nerve cells to see if a new medicine helps with nerve problems.\n",
      "\n",
      "So, stem cells are super important because they can help us understand how our bodies work, fix problems, and test new medicines!\n"
     ]
    }
   ],
   "source": [
    "prompt = f\"\"\"Please ELI5 (explain like I'm 5) the following article:\n",
    "\n",
    "```\n",
    "{stemcells}\n",
    "```\n",
    "\"\"\"\n",
    "completion = complete(prompt)\n",
    "print_response(completion)"
   ]
  },
  {
   "cell_type": "code",
   "execution_count": null,
   "id": "bf46f5a7-58e5-45c0-81c4-8b369f073d7b",
   "metadata": {},
   "outputs": [],
   "source": []
  }
 ],
 "metadata": {
  "kernelspec": {
   "display_name": "Python 3 (ipykernel)",
   "language": "python",
   "name": "python3"
  },
  "language_info": {
   "codemirror_mode": {
    "name": "ipython",
    "version": 3
   },
   "file_extension": ".py",
   "mimetype": "text/x-python",
   "name": "python",
   "nbconvert_exporter": "python",
   "pygments_lexer": "ipython3",
   "version": "3.12.5"
  }
 },
 "nbformat": 4,
 "nbformat_minor": 5
}
