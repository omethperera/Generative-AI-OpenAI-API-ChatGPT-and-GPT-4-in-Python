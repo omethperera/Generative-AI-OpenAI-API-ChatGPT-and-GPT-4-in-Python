{
 "cells": [
  {
   "cell_type": "code",
   "execution_count": 1,
   "id": "8e37f054-394d-498e-826a-98808198ba32",
   "metadata": {},
   "outputs": [],
   "source": [
    "from openai import OpenAI"
   ]
  },
  {
   "cell_type": "code",
   "execution_count": 2,
   "id": "3d3c9e18-1c2c-494b-b878-64be308cadeb",
   "metadata": {},
   "outputs": [],
   "source": [
    "client = OpenAI()"
   ]
  },
  {
   "cell_type": "code",
   "execution_count": 3,
   "id": "0184f377-8fca-456c-bbd3-61b924be7814",
   "metadata": {},
   "outputs": [],
   "source": [
    "def complete(user_prompt):\n",
    "    completion = client.chat.completions.create(\n",
    "        model='gpt-4o-mini',\n",
    "        messages=[\n",
    "#             {\"role\": \"system\", \"content\": system_prompt},\n",
    "            {\"role\": \"user\", \"content\": user_prompt},\n",
    "        ],\n",
    "        temperature=0,\n",
    "        # max_tokens=200, # don't limit output length!\n",
    "    )\n",
    "    return completion"
   ]
  },
  {
   "cell_type": "code",
   "execution_count": 5,
   "id": "cf068217-cabb-46e9-8adb-91566fc8178c",
   "metadata": {},
   "outputs": [],
   "source": [
    "prompt = f\"\"\"\n",
    "Translate the following English text to Spanish: \\\n",
    "```Hello. What is your name?```\n",
    "\"\"\"\n",
    "completion = complete(prompt)"
   ]
  },
  {
   "cell_type": "code",
   "execution_count": 6,
   "id": "99b7d30b-c590-4f45-818d-82e1a7ace55d",
   "metadata": {},
   "outputs": [],
   "source": [
    "def print_response(completion):\n",
    "    content = completion.choices[0].message.content\n",
    "    print(content)"
   ]
  },
  {
   "cell_type": "code",
   "execution_count": 7,
   "id": "fdacb7d0-0d7d-4843-9f8b-753fa5a49010",
   "metadata": {},
   "outputs": [
    {
     "name": "stdout",
     "output_type": "stream",
     "text": [
      "Hola. ¿Cuál es tu nombre?\n"
     ]
    }
   ],
   "source": [
    "print_response(completion)"
   ]
  },
  {
   "cell_type": "code",
   "execution_count": 9,
   "id": "7f3dbb22-f668-455d-ba76-317de2700c92",
   "metadata": {},
   "outputs": [
    {
     "name": "stdout",
     "output_type": "stream",
     "text": [
      "Chinese\n"
     ]
    }
   ],
   "source": [
    "# Translating arbitrary languages\n",
    "# Use-case: building a customer service bot\n",
    "# You don't know what language your customers will write in!\n",
    "# \"But can't the bot reply in any language?\"\n",
    "# Sure, but what if your company documents (e.g. for RAG) are in English?\n",
    "user_message = \"我的搅拌机坏了。 我应该怎么办\"\n",
    "prompt = f\"\"\"What language is this message in? \\\n",
    "State only the language.\n",
    "```{user_message}```\n",
    "\"\"\"\n",
    "\n",
    "completion = complete(prompt)\n",
    "print_response(completion)"
   ]
  },
  {
   "cell_type": "code",
   "execution_count": 11,
   "id": "27a7e5ea-6905-4944-954e-347c5b5bf80e",
   "metadata": {},
   "outputs": [
    {
     "name": "stdout",
     "output_type": "stream",
     "text": [
      "尊敬的客户，\n",
      "\n",
      "感谢您联系我们。很抱歉听到您的搅拌机出现了问题。为了更好地帮助您，请您提供一些详细信息，例如搅拌机的型号和故障的具体情况。这样我们可以为您提供更准确的解决方案。\n",
      "\n",
      "如果您需要更换或维修，请告诉我们，我们将尽快为您处理。\n",
      "\n",
      "感谢您的理解与支持！\n",
      "\n",
      "祝好，  \n",
      "[您的名字]  \n",
      "[公司名称] 客户服务团队\n"
     ]
    }
   ],
   "source": [
    "# What language will it reply in?\n",
    "\n",
    "prompt = f\"\"\"Please write a polite customer service \\\n",
    "response to a customer who has sent the following \\\n",
    "message in chinese:\n",
    "\n",
    "```{user_message}```\n",
    "\"\"\"\n",
    "\n",
    "completion = complete(prompt)\n",
    "print_response(completion)"
   ]
  },
  {
   "cell_type": "code",
   "execution_count": null,
   "id": "8fe78ebc-118b-4185-aa3a-40bf974df0b4",
   "metadata": {},
   "outputs": [],
   "source": []
  }
 ],
 "metadata": {
  "kernelspec": {
   "display_name": "Python 3 (ipykernel)",
   "language": "python",
   "name": "python3"
  },
  "language_info": {
   "codemirror_mode": {
    "name": "ipython",
    "version": 3
   },
   "file_extension": ".py",
   "mimetype": "text/x-python",
   "name": "python",
   "nbconvert_exporter": "python",
   "pygments_lexer": "ipython3",
   "version": "3.12.5"
  }
 },
 "nbformat": 4,
 "nbformat_minor": 5
}
