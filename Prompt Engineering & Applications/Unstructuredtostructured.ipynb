{
 "cells": [
  {
   "cell_type": "code",
   "execution_count": 1,
   "id": "26f709a8-2bc0-4dc2-8dca-598f02bb9b62",
   "metadata": {},
   "outputs": [],
   "source": [
    "from openai import OpenAI"
   ]
  },
  {
   "cell_type": "code",
   "execution_count": 2,
   "id": "67e78a68-74cf-4419-a6a2-2c5cc7234f18",
   "metadata": {},
   "outputs": [],
   "source": [
    "client = OpenAI()"
   ]
  },
  {
   "cell_type": "code",
   "execution_count": 3,
   "id": "13d434ae-71f3-43b1-80bd-95689a4b17b0",
   "metadata": {},
   "outputs": [],
   "source": [
    "system_prompt = \"You are an assistant that returns only JSON objects with the requested information.\""
   ]
  },
  {
   "cell_type": "code",
   "execution_count": 9,
   "id": "04f97567-ea8f-4194-b97d-0aabbcf04f37",
   "metadata": {},
   "outputs": [],
   "source": [
    "def complete(user_prompt):\n",
    "    completion = client.chat.completions.create(\n",
    "        model='gpt-4o-mini',\n",
    "        messages=[\n",
    "            {\"role\": \"system\", \"content\": system_prompt},\n",
    "            {\"role\": \"user\", \"content\": user_prompt},\n",
    "        ],\n",
    "        temperature=0,\n",
    "        max_tokens=400,\n",
    "    )\n",
    "    return completion"
   ]
  },
  {
   "cell_type": "code",
   "execution_count": 10,
   "id": "a297f3e3-f5bb-40c3-be34-f452d42a385d",
   "metadata": {},
   "outputs": [],
   "source": [
    "prompt = \"Please return a JSON object about Marie Curie.\"+\\\n",
    "    \"Include full name, birth date, date of death (if applicable), \"+\\\n",
    "    \"and list of accomplishments.\""
   ]
  },
  {
   "cell_type": "code",
   "execution_count": 11,
   "id": "ecf90702-1171-4198-9751-c4aac7f03907",
   "metadata": {},
   "outputs": [
    {
     "data": {
      "text/plain": [
       "ChatCompletion(id='chatcmpl-ADPk9ghDMMp0H3biFt2p94zkAq4bN', choices=[Choice(finish_reason='stop', index=0, logprobs=None, message=ChatCompletionMessage(content='```json\\n{\\n  \"full_name\": \"Marie Skłodowska Curie\",\\n  \"birth_date\": \"1867-11-07\",\\n  \"date_of_death\": \"1934-07-04\",\\n  \"accomplishments\": [\\n    \"First woman to win a Nobel Prize\",\\n    \"First person to win a Nobel Prize in two different scientific fields (Physics in 1903 and Chemistry in 1911)\",\\n    \"Discovered the elements polonium and radium\",\\n    \"Pioneered research on radioactivity\",\\n    \"Founded the Curie Institutes in Paris and Warsaw, which remain major centers of medical research today\",\\n    \"Developed mobile radiography units during World War I to assist in treating wounded soldiers\"\\n  ]\\n}\\n```', refusal=None, role='assistant', function_call=None, tool_calls=None))], created=1727760585, model='gpt-4o-mini-2024-07-18', object='chat.completion', service_tier=None, system_fingerprint='fp_f85bea6784', usage=CompletionUsage(completion_tokens=157, prompt_tokens=53, total_tokens=210, completion_tokens_details=CompletionTokensDetails(reasoning_tokens=0)))"
      ]
     },
     "execution_count": 11,
     "metadata": {},
     "output_type": "execute_result"
    }
   ],
   "source": [
    "completion = complete(prompt)\n",
    "completion"
   ]
  },
  {
   "cell_type": "code",
   "execution_count": 12,
   "id": "efb6bf0c-0744-46ff-8bfa-843aea63d70e",
   "metadata": {},
   "outputs": [],
   "source": [
    "def get_response(completion):\n",
    "    content = completion.choices[0].message.content\n",
    "    return content"
   ]
  },
  {
   "cell_type": "code",
   "execution_count": 40,
   "id": "af55ee31-eee6-4e2c-8fa3-1b8da00472f3",
   "metadata": {},
   "outputs": [
    {
     "name": "stdout",
     "output_type": "stream",
     "text": [
      "<class 'str'>\n"
     ]
    }
   ],
   "source": [
    "data = get_response(completion)\n",
    "data1 = data.strip(\"```json\").strip(\"```\")\n",
    "print(data1)"
   ]
  },
  {
   "cell_type": "code",
   "execution_count": 19,
   "id": "252e54a7-e94e-4152-8144-b87ae4d466e8",
   "metadata": {},
   "outputs": [],
   "source": [
    "import json"
   ]
  },
  {
   "cell_type": "code",
   "execution_count": 21,
   "id": "55062bb4-46b5-43e6-97dc-999c7f3dff6a",
   "metadata": {},
   "outputs": [],
   "source": [
    "j = json.loads(data1)"
   ]
  },
  {
   "cell_type": "code",
   "execution_count": 22,
   "id": "33886f2f-8cca-43fc-ba4f-3fc1c45fb4fd",
   "metadata": {},
   "outputs": [
    {
     "data": {
      "text/plain": [
       "{'full_name': 'Marie Skłodowska Curie',\n",
       " 'birth_date': '1867-11-07',\n",
       " 'date_of_death': '1934-07-04',\n",
       " 'accomplishments': ['First woman to win a Nobel Prize',\n",
       "  'First person to win a Nobel Prize in two different scientific fields (Physics in 1903 and Chemistry in 1911)',\n",
       "  'Discovered the elements polonium and radium',\n",
       "  'Pioneered research on radioactivity',\n",
       "  'Founded the Curie Institutes in Paris and Warsaw, which remain major centers of medical research today',\n",
       "  'Developed mobile radiography units during World War I to assist in treating wounded soldiers']}"
      ]
     },
     "execution_count": 22,
     "metadata": {},
     "output_type": "execute_result"
    }
   ],
   "source": [
    "j"
   ]
  },
  {
   "cell_type": "code",
   "execution_count": 27,
   "id": "42fe66cf-cb46-44ba-8c19-52bbd38c272c",
   "metadata": {},
   "outputs": [],
   "source": [
    "# Turn it into a function that will tell us about anyone!\n",
    "def get_person(name):\n",
    "    prompt = f\"Please return a JSON object about {name}. \" +\\\n",
    "    \"Include full name, birth date, date of death (if applicable), \" +\\\n",
    "    \"and list of accomplishments.\"\n",
    "    \n",
    "    completion = complete(prompt)\n",
    "    \n",
    "    # we could just print the output here, but let's use this\n",
    "    # to confirm it's an actual JSON\n",
    "    data = get_response(completion)\n",
    "    data1 = data.strip(\"```json\").strip(\"```\")\n",
    "    j = json.loads(data1)\n",
    "    return j"
   ]
  },
  {
   "cell_type": "code",
   "execution_count": 28,
   "id": "28d7382c-96fb-4f7c-ace0-b8121513be16",
   "metadata": {},
   "outputs": [
    {
     "name": "stdout",
     "output_type": "stream",
     "text": [
      "{'full_name': 'Steven Paul Jobs', 'birth_date': '1955-02-24', 'date_of_death': '2011-10-05', 'accomplishments': ['Co-founder of Apple Inc.', 'Co-founder of NeXT Inc.', 'CEO of Pixar Animation Studios', 'Key figure in the development of the Macintosh computer', 'Pioneered the development of the iPod, iPhone, and iPad', 'Played a significant role in the digital music revolution with iTunes', 'Introduced the App Store, transforming software distribution', 'Recognized for his influence on the design and functionality of consumer electronics']}\n"
     ]
    }
   ],
   "source": [
    "j = get_person(\"Steve Jobs\")\n",
    "print(j)"
   ]
  },
  {
   "cell_type": "code",
   "execution_count": 29,
   "id": "9c349671-42ee-45ac-9b1a-2247d3e76ae0",
   "metadata": {},
   "outputs": [],
   "source": [
    "from pprint import pprint"
   ]
  },
  {
   "cell_type": "code",
   "execution_count": 30,
   "id": "08e702a9-62d7-43f3-8f98-c8e873984a88",
   "metadata": {},
   "outputs": [
    {
     "name": "stdout",
     "output_type": "stream",
     "text": [
      "{'accomplishments': ['Co-founder of Apple Inc.',\n",
      "                     'Co-founder of NeXT Inc.',\n",
      "                     'CEO of Pixar Animation Studios',\n",
      "                     'Key figure in the development of the Macintosh computer',\n",
      "                     'Pioneered the development of the iPod, iPhone, and iPad',\n",
      "                     'Played a significant role in the digital music '\n",
      "                     'revolution with iTunes',\n",
      "                     'Introduced the App Store, transforming software '\n",
      "                     'distribution',\n",
      "                     'Recognized for his influence on the design and '\n",
      "                     'functionality of consumer electronics'],\n",
      " 'birth_date': '1955-02-24',\n",
      " 'date_of_death': '2011-10-05',\n",
      " 'full_name': 'Steven Paul Jobs'}\n"
     ]
    }
   ],
   "source": [
    "pprint(j)"
   ]
  },
  {
   "cell_type": "code",
   "execution_count": 33,
   "id": "a7711bc5-a73e-4332-9ea3-fb0f46fde466",
   "metadata": {},
   "outputs": [],
   "source": [
    "# In the \"real-world\", you'll likely want to derive your JSON\n",
    "# from an existing unstructured document.\n",
    "\n",
    "report = '''CUPERTINO, CALIFORNIA Apple today announced financial \\\n",
    "results for its fiscal 2023 fourth quarter ended September 30, 2023. \\\n",
    "The Company posted quarterly revenue of $89.5 billion, down 1 percent \\\n",
    "year over year, and quarterly earnings per diluted share of $1.46, \\\n",
    "up 13 percent year over year. \\\n",
    "\n",
    "“Today Apple is pleased to report a September quarter revenue record for \\\n",
    "iPhone and an all-time revenue record in Services,” said Tim Cook, \\\n",
    "Apple’s CEO. “We now have our strongest lineup of products ever heading \\\n",
    "into the holiday season, including the iPhone 15 lineup and our first \\\n",
    "carbon neutral Apple Watch models, a major milestone in our efforts to \\\n",
    "make all Apple products carbon neutral by 2030.” \\\n",
    "\n",
    "“Our active installed base of devices has again reached a new all-time \\\n",
    "high across all products and all geographic segments, thanks to the strength \\\n",
    "of our ecosystem and unparalleled customer loyalty,” said Luca Maestri, \\\n",
    "Apple’s CFO. “During the September quarter, our business performance drove \\\n",
    "double digit EPS growth and we returned nearly $25 billion to our \\\n",
    "shareholders, while continuing to invest in our long-term growth plans.” \\\n",
    "\n",
    "Apple’s board of directors has declared a cash dividend of $0.24 per share \\\n",
    "of the Company’s common stock. The dividend is payable on November 16, 2023 \\\n",
    "to shareholders of record as of the close of business on November 13, 2023. \\\n",
    "\n",
    "Apple will provide live streaming of its Q4 2023 financial results conference \\\n",
    "call beginning at 2:00 p.m. PT on November 2, 2023 at \\\n",
    "apple.com/investor/earnings-call. The webcast will be available for replay \\\n",
    "for approximately two weeks thereafter.\n",
    "'''"
   ]
  },
  {
   "cell_type": "code",
   "execution_count": 34,
   "id": "e3ab3909-9e3c-42af-8579-1ccd82d37eb5",
   "metadata": {},
   "outputs": [],
   "source": [
    "prompt = f\"\"\"Please pull all the important information from \\\n",
    "the below quarterly earnings report, enclosed in \\\n",
    "triple backticks. Return the result as a JSON.\\n\\n\\\n",
    "```\n",
    "{report}\n",
    "```\n",
    "\"\"\""
   ]
  },
  {
   "cell_type": "code",
   "execution_count": 35,
   "id": "528cb1d2-53af-4264-a787-02891dffda2f",
   "metadata": {},
   "outputs": [
    {
     "name": "stdout",
     "output_type": "stream",
     "text": [
      "Please pull all the important information from the below quarterly earnings report, enclosed in triple backticks. Return the result as a JSON.\n",
      "\n",
      "```\n",
      "CUPERTINO, CALIFORNIA Apple today announced financial results for its fiscal 2023 fourth quarter ended September 30, 2023. The Company posted quarterly revenue of $89.5 billion, down 1 percent year over year, and quarterly earnings per diluted share of $1.46, up 13 percent year over year. \n",
      "“Today Apple is pleased to report a September quarter revenue record for iPhone and an all-time revenue record in Services,” said Tim Cook, Apple’s CEO. “We now have our strongest lineup of products ever heading into the holiday season, including the iPhone 15 lineup and our first carbon neutral Apple Watch models, a major milestone in our efforts to make all Apple products carbon neutral by 2030.” \n",
      "“Our active installed base of devices has again reached a new all-time high across all products and all geographic segments, thanks to the strength of our ecosystem and unparalleled customer loyalty,” said Luca Maestri, Apple’s CFO. “During the September quarter, our business performance drove double digit EPS growth and we returned nearly $25 billion to our shareholders, while continuing to invest in our long-term growth plans.” \n",
      "Apple’s board of directors has declared a cash dividend of $0.24 per share of the Company’s common stock. The dividend is payable on November 16, 2023 to shareholders of record as of the close of business on November 13, 2023. \n",
      "Apple will provide live streaming of its Q4 2023 financial results conference call beginning at 2:00 p.m. PT on November 2, 2023 at apple.com/investor/earnings-call. The webcast will be available for replay for approximately two weeks thereafter.\n",
      "\n",
      "```\n",
      "\n"
     ]
    }
   ],
   "source": [
    "print(prompt)"
   ]
  },
  {
   "cell_type": "code",
   "execution_count": 36,
   "id": "4d66f90c-616c-4c8e-b746-04fd6cbbd481",
   "metadata": {},
   "outputs": [
    {
     "data": {
      "text/plain": [
       "ChatCompletion(id='chatcmpl-ADQ3peuyt4SJmAvvAdEiRxoVimtVn', choices=[Choice(finish_reason='stop', index=0, logprobs=None, message=ChatCompletionMessage(content='```json\\n{\\n  \"company\": \"Apple\",\\n  \"fiscal_quarter\": \"Q4 2023\",\\n  \"report_date\": \"September 30, 2023\",\\n  \"financial_results\": {\\n    \"revenue\": {\\n      \"amount\": 89.5,\\n      \"unit\": \"billion\",\\n      \"year_over_year_change\": -1\\n    },\\n    \"earnings_per_diluted_share\": {\\n      \"amount\": 1.46,\\n      \"year_over_year_change\": 13\\n    }\\n  },\\n  \"highlights\": {\\n    \"CEO_statement\": \"Today Apple is pleased to report a September quarter revenue record for iPhone and an all-time revenue record in Services.\",\\n    \"product_lineup\": \"Strongest lineup of products ever including the iPhone 15 lineup and first carbon neutral Apple Watch models.\",\\n    \"CFO_statement\": \"Our active installed base of devices has again reached a new all-time high across all products and all geographic segments.\",\\n    \"shareholder_return\": {\\n      \"amount\": 25,\\n      \"unit\": \"billion\"\\n    }\\n  },\\n  \"dividend\": {\\n    \"amount_per_share\": 0.24,\\n    \"payable_date\": \"November 16, 2023\",\\n    \"record_date\": \"November 13, 2023\"\\n  },\\n  \"conference_call\": {\\n    \"date\": \"November 2, 2023\",\\n    \"time\": \"2:00 p.m. PT\",\\n    \"webcast_url\": \"apple.com/investor/earnings-call\",\\n    \"replay_duration\": \"approximately two weeks\"\\n  }\\n}\\n```', refusal=None, role='assistant', function_call=None, tool_calls=None))], created=1727761805, model='gpt-4o-mini-2024-07-18', object='chat.completion', service_tier=None, system_fingerprint='fp_f85bea6784', usage=CompletionUsage(completion_tokens=344, prompt_tokens=405, total_tokens=749, completion_tokens_details=CompletionTokensDetails(reasoning_tokens=0)))"
      ]
     },
     "execution_count": 36,
     "metadata": {},
     "output_type": "execute_result"
    }
   ],
   "source": [
    "completion = complete(prompt)\n",
    "completion"
   ]
  },
  {
   "cell_type": "code",
   "execution_count": 42,
   "id": "ebf0b955-5820-407e-b4b6-e9c56b859036",
   "metadata": {},
   "outputs": [
    {
     "data": {
      "text/plain": [
       "'\\n{\\n  \"company\": \"Apple\",\\n  \"fiscal_quarter\": \"Q4 2023\",\\n  \"report_date\": \"September 30, 2023\",\\n  \"financial_results\": {\\n    \"revenue\": {\\n      \"amount\": 89.5,\\n      \"unit\": \"billion\",\\n      \"year_over_year_change\": -1\\n    },\\n    \"earnings_per_diluted_share\": {\\n      \"amount\": 1.46,\\n      \"year_over_year_change\": 13\\n    }\\n  },\\n  \"highlights\": {\\n    \"CEO_statement\": \"Today Apple is pleased to report a September quarter revenue record for iPhone and an all-time revenue record in Services.\",\\n    \"product_lineup\": \"Strongest lineup of products ever including the iPhone 15 lineup and first carbon neutral Apple Watch models.\",\\n    \"CFO_statement\": \"Our active installed base of devices has again reached a new all-time high across all products and all geographic segments.\",\\n    \"shareholder_return\": {\\n      \"amount\": 25,\\n      \"unit\": \"billion\"\\n    }\\n  },\\n  \"dividend\": {\\n    \"amount_per_share\": 0.24,\\n    \"payable_date\": \"November 16, 2023\",\\n    \"record_date\": \"November 13, 2023\"\\n  },\\n  \"conference_call\": {\\n    \"date\": \"November 2, 2023\",\\n    \"time\": \"2:00 p.m. PT\",\\n    \"webcast_url\": \"apple.com/investor/earnings-call\",\\n    \"replay_duration\": \"approximately two weeks\"\\n  }\\n}\\n'"
      ]
     },
     "execution_count": 42,
     "metadata": {},
     "output_type": "execute_result"
    }
   ],
   "source": [
    "data = get_response(completion)\n",
    "data1 = data.strip(\"```json\").strip(\"```\")\n",
    "data1"
   ]
  },
  {
   "cell_type": "code",
   "execution_count": 43,
   "id": "37450157-bb04-4c19-9d00-7f537deb1236",
   "metadata": {},
   "outputs": [],
   "source": [
    "j = json.loads(data1)"
   ]
  },
  {
   "cell_type": "code",
   "execution_count": 44,
   "id": "c3cdba0c-4f57-48fc-a7ac-700e916f34ba",
   "metadata": {},
   "outputs": [
    {
     "name": "stdout",
     "output_type": "stream",
     "text": [
      "{'company': 'Apple',\n",
      " 'conference_call': {'date': 'November 2, 2023',\n",
      "                     'replay_duration': 'approximately two weeks',\n",
      "                     'time': '2:00 p.m. PT',\n",
      "                     'webcast_url': 'apple.com/investor/earnings-call'},\n",
      " 'dividend': {'amount_per_share': 0.24,\n",
      "              'payable_date': 'November 16, 2023',\n",
      "              'record_date': 'November 13, 2023'},\n",
      " 'financial_results': {'earnings_per_diluted_share': {'amount': 1.46,\n",
      "                                                      'year_over_year_change': 13},\n",
      "                       'revenue': {'amount': 89.5,\n",
      "                                   'unit': 'billion',\n",
      "                                   'year_over_year_change': -1}},\n",
      " 'fiscal_quarter': 'Q4 2023',\n",
      " 'highlights': {'CEO_statement': 'Today Apple is pleased to report a September '\n",
      "                                 'quarter revenue record for iPhone and an '\n",
      "                                 'all-time revenue record in Services.',\n",
      "                'CFO_statement': 'Our active installed base of devices has '\n",
      "                                 'again reached a new all-time high across all '\n",
      "                                 'products and all geographic segments.',\n",
      "                'product_lineup': 'Strongest lineup of products ever including '\n",
      "                                  'the iPhone 15 lineup and first carbon '\n",
      "                                  'neutral Apple Watch models.',\n",
      "                'shareholder_return': {'amount': 25, 'unit': 'billion'}},\n",
      " 'report_date': 'September 30, 2023'}\n"
     ]
    }
   ],
   "source": [
    "pprint(j)"
   ]
  },
  {
   "cell_type": "code",
   "execution_count": null,
   "id": "1fa1238b-35d4-4ebb-9263-fa3e1ddd27d6",
   "metadata": {},
   "outputs": [],
   "source": []
  }
 ],
 "metadata": {
  "kernelspec": {
   "display_name": "Python 3 (ipykernel)",
   "language": "python",
   "name": "python3"
  },
  "language_info": {
   "codemirror_mode": {
    "name": "ipython",
    "version": 3
   },
   "file_extension": ".py",
   "mimetype": "text/x-python",
   "name": "python",
   "nbconvert_exporter": "python",
   "pygments_lexer": "ipython3",
   "version": "3.12.5"
  }
 },
 "nbformat": 4,
 "nbformat_minor": 5
}
