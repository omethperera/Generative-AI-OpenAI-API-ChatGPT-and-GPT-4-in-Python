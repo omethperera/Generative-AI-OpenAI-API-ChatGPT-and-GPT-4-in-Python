{
 "cells": [
  {
   "cell_type": "code",
   "execution_count": 1,
   "id": "ccaa3187-881b-47ad-b40d-fbcc7786cae6",
   "metadata": {},
   "outputs": [],
   "source": [
    "# Structured object --> Unstructured document\n",
    "# E.g. your accountant gives you a data sheet\n",
    "# Your job is to write the quarterly earnings report\n",
    "\n",
    "from openai import OpenAI"
   ]
  },
  {
   "cell_type": "code",
   "execution_count": 2,
   "id": "c497c832-83be-4b21-8c3a-6684b9aabb1f",
   "metadata": {},
   "outputs": [],
   "source": [
    "client = OpenAI()"
   ]
  },
  {
   "cell_type": "code",
   "execution_count": 3,
   "id": "f7f39445-0163-4e86-aa90-d3ec4c4f59c6",
   "metadata": {},
   "outputs": [],
   "source": [
    "system_prompt = \"You are an assistant that writes concise, detailed, \" +\\\n",
    "    \"and factual quarterly earnings reports given structured data.\""
   ]
  },
  {
   "cell_type": "code",
   "execution_count": 4,
   "id": "29de96ff-6ec1-4fe4-a9c3-39b8d1bf824d",
   "metadata": {},
   "outputs": [],
   "source": [
    "def complete(user_prompt):\n",
    "    completion = client.chat.completions.create(\n",
    "        model='gpt-4o-mini',\n",
    "        messages=[\n",
    "            {\"role\": \"system\", \"content\": system_prompt},\n",
    "            {\"role\": \"user\", \"content\": user_prompt},\n",
    "        ],\n",
    "        temperature=0,\n",
    "        # max_tokens=200, # don't limit output length!\n",
    "    )\n",
    "    return completion"
   ]
  },
  {
   "cell_type": "code",
   "execution_count": 5,
   "id": "fc64dbe6-e3ee-478b-b2db-b8a6abd6905d",
   "metadata": {},
   "outputs": [],
   "source": [
    "import json\n",
    "j = {'CEO': 'Tim Cook',\n",
    " 'CFO': 'Luca Maestri',\n",
    " 'company': 'Apple',\n",
    " 'dividend_payable_date': 'November 16, 2023',\n",
    " 'dividend_per_share': '$0.24',\n",
    " 'dividend_record_date': 'November 13, 2023',\n",
    " 'earnings_call_date': 'November 2, 2023',\n",
    " 'earnings_call_time': '2:00 p.m. PT',\n",
    " 'earnings_call_webcast': 'apple.com/investor/earnings-call',\n",
    " 'earnings_per_share': '$1.46',\n",
    " 'earnings_per_share_change_year_over_year': '13%',\n",
    " 'fiscal_year': 2023,\n",
    " 'quarter': 'Q4',\n",
    " 'quarterly_revenue': '$89.5 billion',\n",
    " 'revenue_change_year_over_year': '-1%'}"
   ]
  },
  {
   "cell_type": "code",
   "execution_count": 6,
   "id": "ec54d043-a4b3-4d85-8bd1-3f4a20f8c902",
   "metadata": {},
   "outputs": [
    {
     "name": "stdout",
     "output_type": "stream",
     "text": [
      "{\"CEO\": \"Tim Cook\", \"CFO\": \"Luca Maestri\", \"company\": \"Apple\", \"dividend_payable_date\": \"November 16, 2023\", \"dividend_per_share\": \"$0.24\", \"dividend_record_date\": \"November 13, 2023\", \"earnings_call_date\": \"November 2, 2023\", \"earnings_call_time\": \"2:00 p.m. PT\", \"earnings_call_webcast\": \"apple.com/investor/earnings-call\", \"earnings_per_share\": \"$1.46\", \"earnings_per_share_change_year_over_year\": \"13%\", \"fiscal_year\": 2023, \"quarter\": \"Q4\", \"quarterly_revenue\": \"$89.5 billion\", \"revenue_change_year_over_year\": \"-1%\"}\n"
     ]
    }
   ],
   "source": [
    "js = json.dumps(j)\n",
    "print(js)"
   ]
  },
  {
   "cell_type": "code",
   "execution_count": 7,
   "id": "cd246986-6cdf-4825-aa21-35ac44df67d0",
   "metadata": {},
   "outputs": [
    {
     "name": "stdout",
     "output_type": "stream",
     "text": [
      "Please convert the following JSON document enclosed in triple backticks into a quarterly earnings report suitable for shareholders.\n",
      "\n",
      "```\n",
      "{\"CEO\": \"Tim Cook\", \"CFO\": \"Luca Maestri\", \"company\": \"Apple\", \"dividend_payable_date\": \"November 16, 2023\", \"dividend_per_share\": \"$0.24\", \"dividend_record_date\": \"November 13, 2023\", \"earnings_call_date\": \"November 2, 2023\", \"earnings_call_time\": \"2:00 p.m. PT\", \"earnings_call_webcast\": \"apple.com/investor/earnings-call\", \"earnings_per_share\": \"$1.46\", \"earnings_per_share_change_year_over_year\": \"13%\", \"fiscal_year\": 2023, \"quarter\": \"Q4\", \"quarterly_revenue\": \"$89.5 billion\", \"revenue_change_year_over_year\": \"-1%\"}\n",
      "```\n",
      "\n"
     ]
    }
   ],
   "source": [
    "prompt = f\"\"\"Please convert the following JSON document enclosed in \\\n",
    "triple backticks into a quarterly earnings report suitable for \\\n",
    "shareholders.\\n\\n\\\n",
    "```\n",
    "{js}\n",
    "```\n",
    "\"\"\"\n",
    "print(prompt)"
   ]
  },
  {
   "cell_type": "code",
   "execution_count": 8,
   "id": "88d29b46-91cc-4728-8841-e7f08de611a5",
   "metadata": {},
   "outputs": [
    {
     "data": {
      "text/plain": [
       "ChatCompletion(id='chatcmpl-ADT5TYjxi2ts6HjnA8z6IFWgc9jyV', choices=[Choice(finish_reason='stop', index=0, logprobs=None, message=ChatCompletionMessage(content=\"**Apple Inc. Quarterly Earnings Report - Q4 2023**\\n\\n**Date:** November 2, 2023  \\n**Time:** 2:00 p.m. PT  \\n**Webcast:** [apple.com/investor/earnings-call](https://apple.com/investor/earnings-call)\\n\\n**Overview:**\\nApple Inc. (NASDAQ: AAPL) has released its earnings report for the fourth quarter of fiscal year 2023, showcasing a resilient performance amidst a challenging market environment.\\n\\n**Key Financial Highlights:**\\n- **Quarterly Revenue:** $89.5 billion  \\n  - **Year-over-Year Change:** -1%\\n  \\n- **Earnings Per Share (EPS):** $1.46  \\n  - **Year-over-Year Change:** +13%\\n\\n**Dividends:**\\n- **Dividend Record Date:** November 13, 2023  \\n- **Dividend Payable Date:** November 16, 2023  \\n- **Dividend Per Share:** $0.24\\n\\n**Leadership Commentary:**\\nCEO Tim Cook and CFO Luca Maestri will discuss the results and outlook during the earnings call, providing insights into the company's strategic initiatives and market positioning.\\n\\n**Conclusion:**\\nDespite a slight decline in revenue compared to the previous year, Apple has demonstrated strong earnings growth, reflecting effective cost management and operational efficiency. Shareholders are encouraged to participate in the upcoming earnings call for a comprehensive discussion on the company's performance and future strategies.\", refusal=None, role='assistant', function_call=None, tool_calls=None))], created=1727773439, model='gpt-4o-mini-2024-07-18', object='chat.completion', service_tier=None, system_fingerprint='fp_f85bea6784', usage=CompletionUsage(completion_tokens=295, prompt_tokens=232, total_tokens=527, completion_tokens_details=CompletionTokensDetails(reasoning_tokens=0)))"
      ]
     },
     "execution_count": 8,
     "metadata": {},
     "output_type": "execute_result"
    }
   ],
   "source": [
    "completion = complete(prompt)\n",
    "completion"
   ]
  },
  {
   "cell_type": "code",
   "execution_count": 9,
   "id": "8ac13ec2-5cf9-4a4b-bb05-0918db0b8c78",
   "metadata": {
    "jupyter": {
     "source_hidden": true
    }
   },
   "outputs": [],
   "source": [
    "def print_response(completion):\n",
    "    content = completion.choices[0].message.content\n",
    "    print(content)"
   ]
  },
  {
   "cell_type": "code",
   "execution_count": 10,
   "id": "70b89a15-eab7-4d07-be4a-4d6ad845ef58",
   "metadata": {
    "collapsed": true,
    "jupyter": {
     "outputs_hidden": true
    }
   },
   "outputs": [
    {
     "name": "stdout",
     "output_type": "stream",
     "text": [
      "**Apple Inc. Quarterly Earnings Report - Q4 2023**\n",
      "\n",
      "**Date:** November 2, 2023  \n",
      "**Time:** 2:00 p.m. PT  \n",
      "**Webcast:** [apple.com/investor/earnings-call](https://apple.com/investor/earnings-call)\n",
      "\n",
      "**Overview:**\n",
      "Apple Inc. (NASDAQ: AAPL) has released its earnings report for the fourth quarter of fiscal year 2023, showcasing a resilient performance amidst a challenging market environment.\n",
      "\n",
      "**Key Financial Highlights:**\n",
      "- **Quarterly Revenue:** $89.5 billion  \n",
      "  - **Year-over-Year Change:** -1%\n",
      "  \n",
      "- **Earnings Per Share (EPS):** $1.46  \n",
      "  - **Year-over-Year Change:** +13%\n",
      "\n",
      "**Dividends:**\n",
      "- **Dividend Record Date:** November 13, 2023  \n",
      "- **Dividend Payable Date:** November 16, 2023  \n",
      "- **Dividend Per Share:** $0.24\n",
      "\n",
      "**Leadership Commentary:**\n",
      "CEO Tim Cook and CFO Luca Maestri will discuss the results and outlook during the earnings call, providing insights into the company's strategic initiatives and market positioning.\n",
      "\n",
      "**Conclusion:**\n",
      "Despite a slight decline in revenue compared to the previous year, Apple has demonstrated strong earnings growth, reflecting effective cost management and operational efficiency. Shareholders are encouraged to participate in the upcoming earnings call for a comprehensive discussion on the company's performance and future strategies.\n"
     ]
    }
   ],
   "source": [
    "print_response(completion)"
   ]
  },
  {
   "cell_type": "code",
   "execution_count": 11,
   "id": "5de8d315-50e5-4c0b-b8aa-264ecb16b30c",
   "metadata": {
    "scrolled": true
   },
   "outputs": [
    {
     "data": {
      "text/markdown": [
       "**Apple Inc. Quarterly Earnings Report - Q4 2023**\n",
       "\n",
       "**Date:** November 2, 2023  \n",
       "**Time:** 2:00 p.m. PT  \n",
       "**Webcast:** [apple.com/investor/earnings-call](https://apple.com/investor/earnings-call)\n",
       "\n",
       "**Overview:**\n",
       "Apple Inc. (NASDAQ: AAPL) has released its earnings report for the fourth quarter of fiscal year 2023, showcasing a resilient performance amidst a challenging market environment.\n",
       "\n",
       "**Key Financial Highlights:**\n",
       "- **Quarterly Revenue:** $89.5 billion  \n",
       "  - **Year-over-Year Change:** -1%\n",
       "  \n",
       "- **Earnings Per Share (EPS):** $1.46  \n",
       "  - **Year-over-Year Change:** +13%\n",
       "\n",
       "**Dividends:**\n",
       "- **Dividend Record Date:** November 13, 2023  \n",
       "- **Dividend Payable Date:** November 16, 2023  \n",
       "- **Dividend Per Share:** $0.24\n",
       "\n",
       "**Leadership Commentary:**\n",
       "CEO Tim Cook and CFO Luca Maestri will discuss the results and outlook during the earnings call, providing insights into the company's strategic initiatives and market positioning.\n",
       "\n",
       "**Conclusion:**\n",
       "Despite a slight decline in revenue compared to the previous year, Apple has demonstrated strong earnings growth, reflecting effective cost management and operational efficiency. Shareholders are encouraged to participate in the upcoming earnings call for a comprehensive discussion on the company's performance and future strategies."
      ],
      "text/plain": [
       "<IPython.core.display.Markdown object>"
      ]
     },
     "metadata": {},
     "output_type": "display_data"
    }
   ],
   "source": [
    "from IPython.display import display, Markdown\n",
    "display(Markdown(completion.choices[0].message.content))"
   ]
  },
  {
   "cell_type": "code",
   "execution_count": null,
   "id": "46fc1424-1952-4c36-879f-fd5c8fb324ff",
   "metadata": {},
   "outputs": [],
   "source": []
  }
 ],
 "metadata": {
  "kernelspec": {
   "display_name": "Python 3 (ipykernel)",
   "language": "python",
   "name": "python3"
  },
  "language_info": {
   "codemirror_mode": {
    "name": "ipython",
    "version": 3
   },
   "file_extension": ".py",
   "mimetype": "text/x-python",
   "name": "python",
   "nbconvert_exporter": "python",
   "pygments_lexer": "ipython3",
   "version": "3.12.5"
  }
 },
 "nbformat": 4,
 "nbformat_minor": 5
}
