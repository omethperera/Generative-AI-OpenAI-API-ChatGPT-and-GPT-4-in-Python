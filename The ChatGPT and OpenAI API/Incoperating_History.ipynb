{
 "cells": [
  {
   "cell_type": "code",
   "execution_count": 1,
   "id": "4101cd18-3c5e-4157-975f-70350055ecea",
   "metadata": {},
   "outputs": [],
   "source": [
    "# This will be necessary to build a chatbot that remembers\n",
    "# what the user (and itself) said previously"
   ]
  },
  {
   "cell_type": "code",
   "execution_count": 2,
   "id": "4df24c9e-2c18-4183-9f9c-bf9772f43a35",
   "metadata": {},
   "outputs": [],
   "source": [
    "from openai import OpenAI"
   ]
  },
  {
   "cell_type": "code",
   "execution_count": 3,
   "id": "343d7170-4d5a-410d-86a7-dfd7d931e2f9",
   "metadata": {},
   "outputs": [],
   "source": [
    "client = OpenAI()"
   ]
  },
  {
   "cell_type": "code",
   "execution_count": 4,
   "id": "739b2ba7-ad45-4d4c-b581-f49d014095be",
   "metadata": {},
   "outputs": [],
   "source": [
    "system_prompt = \"You are a helpful assistant that provides direct \" + \\\n",
    "    \"and straightforward answers that are as short as possible. \" + \\\n",
    "    \"You never end with caveats such as 'It is important to remember...'.\""
   ]
  },
  {
   "cell_type": "code",
   "execution_count": 5,
   "id": "95fa0c5c-1636-4159-8837-c8f394634103",
   "metadata": {},
   "outputs": [],
   "source": [
    "# Doesn't remember!\n",
    "def complete(user_prompt):\n",
    "    completion = client.chat.completions.create(\n",
    "        model='gpt-3.5-turbo',\n",
    "        messages=[\n",
    "            {\"role\": \"system\", \"content\": system_prompt},\n",
    "            {\"role\": \"user\", \"content\": user_prompt},\n",
    "        ],\n",
    "        temperature=0,\n",
    "        max_tokens=200,\n",
    "    )\n",
    "    return completion"
   ]
  },
  {
   "cell_type": "code",
   "execution_count": 6,
   "id": "218a6865-81bb-4536-9ad4-c5c1e05ec224",
   "metadata": {},
   "outputs": [],
   "source": [
    "def print_response(completion):\n",
    "    content = completion.choices[0].message.content\n",
    "    print(content)"
   ]
  },
  {
   "cell_type": "code",
   "execution_count": 7,
   "id": "a697ed70-8af6-4eb4-9140-1a349584fa89",
   "metadata": {},
   "outputs": [],
   "source": [
    "def complete_and_print(user_prompt):\n",
    "    completion = complete(user_prompt)\n",
    "    print_response(completion)"
   ]
  },
  {
   "cell_type": "code",
   "execution_count": 8,
   "id": "38bbf9a8-2420-41c7-b6b1-f410847a1df8",
   "metadata": {},
   "outputs": [
    {
     "name": "stdout",
     "output_type": "stream",
     "text": [
      "Basic knowledge of mathematics (especially linear algebra, calculus, and probability), statistics, and programming skills are essential prerequisites for machine learning.\n"
     ]
    }
   ],
   "source": [
    "complete_and_print(\"What are the prerequisites for machine learning?\")"
   ]
  },
  {
   "cell_type": "code",
   "execution_count": 9,
   "id": "d0815ef6-c5b1-46c2-b4a5-91c7745806da",
   "metadata": {},
   "outputs": [
    {
     "name": "stdout",
     "output_type": "stream",
     "text": [
      "You asked for prerequisites for the subject.\n"
     ]
    }
   ],
   "source": [
    "complete_and_print(\"What subject did I ask for prerequisites for?\")"
   ]
  },
  {
   "cell_type": "code",
   "execution_count": 10,
   "id": "9248058e-525f-4349-868b-3defafdbf398",
   "metadata": {},
   "outputs": [],
   "source": [
    "def complete2(messages):\n",
    "    # takes in all messages instead of just single prompt\n",
    "    completion = client.chat.completions.create(\n",
    "        model='gpt-3.5-turbo',\n",
    "        messages=messages,\n",
    "        temperature=0,\n",
    "        max_tokens=200,\n",
    "    )\n",
    "    return completion"
   ]
  },
  {
   "cell_type": "code",
   "execution_count": 11,
   "id": "315454f1-300d-4a3f-a5a7-0f98ccb5fb9d",
   "metadata": {},
   "outputs": [],
   "source": [
    "class Assistant:\n",
    "    def __init__(self):\n",
    "        self.messages = [\n",
    "            {\"role\": \"system\", \"content\": system_prompt}\n",
    "        ]\n",
    "    \n",
    "    def query(self, prompt):\n",
    "        # add prompt to history\n",
    "        self.messages.append({\n",
    "            \"role\": \"user\", \"content\": prompt,\n",
    "        })\n",
    "        \n",
    "        # get completion\n",
    "        completion = complete2(self.messages)\n",
    "        \n",
    "        # get response string\n",
    "        content = completion.choices[0].message.content\n",
    "        \n",
    "        # add response to history\n",
    "        self.messages.append({\n",
    "            \"role\": \"assistant\", \"content\": content,\n",
    "        })\n",
    "        \n",
    "        # show the response\n",
    "        print(content)"
   ]
  },
  {
   "cell_type": "code",
   "execution_count": 12,
   "id": "f9f54ec6-2e74-47ef-85eb-3da7970745b2",
   "metadata": {},
   "outputs": [],
   "source": [
    "bot = Assistant()"
   ]
  },
  {
   "cell_type": "code",
   "execution_count": 13,
   "id": "1cb1bc88-6116-496f-acde-33b43084a3a1",
   "metadata": {},
   "outputs": [
    {
     "name": "stdout",
     "output_type": "stream",
     "text": [
      "Basic knowledge of mathematics (especially linear algebra, calculus, and probability), statistics, and programming skills are essential prerequisites for machine learning.\n"
     ]
    }
   ],
   "source": [
    "bot.query(\"What are the prerequisites for machine learning?\")"
   ]
  },
  {
   "cell_type": "code",
   "execution_count": 15,
   "id": "9de36e2e-6846-4585-af58-6e352724c613",
   "metadata": {},
   "outputs": [
    {
     "name": "stdout",
     "output_type": "stream",
     "text": [
      "You asked for the prerequisites for machine learning.\n"
     ]
    }
   ],
   "source": [
    "bot.query(\"What subject did I ask for prerequisites for?\")"
   ]
  },
  {
   "cell_type": "code",
   "execution_count": 16,
   "id": "7f8830c7-3d24-4800-9da2-bb5ac4634636",
   "metadata": {},
   "outputs": [],
   "source": [
    "# THOUGHT EXERCISE: Currently, the chat history is only stored\n",
    "# in memory, which will be erased when the program closes.\n",
    "# How would you store the data in a database that can be\n",
    "# retrieved later, e.g. when the user leaves and logs back in?"
   ]
  },
  {
   "cell_type": "code",
   "execution_count": null,
   "id": "d2732984-9016-4541-a6d4-f128cf158aad",
   "metadata": {},
   "outputs": [],
   "source": []
  }
 ],
 "metadata": {
  "kernelspec": {
   "display_name": "Python 3 (ipykernel)",
   "language": "python",
   "name": "python3"
  },
  "language_info": {
   "codemirror_mode": {
    "name": "ipython",
    "version": 3
   },
   "file_extension": ".py",
   "mimetype": "text/x-python",
   "name": "python",
   "nbconvert_exporter": "python",
   "pygments_lexer": "ipython3",
   "version": "3.12.5"
  }
 },
 "nbformat": 4,
 "nbformat_minor": 5
}
